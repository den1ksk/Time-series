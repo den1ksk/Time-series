{
 "cells": [
  {
   "cell_type": "markdown",
   "id": "9b2c5c11-d542-4bf7-bb53-ea882dd49c83",
   "metadata": {},
   "source": [
    "### Загрузка библиотек"
   ]
  },
  {
   "cell_type": "code",
   "execution_count": 1,
   "id": "03015b30-e86c-4089-bd5a-6085e8fcf8bf",
   "metadata": {},
   "outputs": [],
   "source": [
    "import pandas as pd\n",
    "import numpy as np\n",
    "import xgboost as xgb\n",
    "import pickle"
   ]
  },
  {
   "cell_type": "markdown",
   "id": "67a077ba-d7a9-408f-a29e-ff5ba3524717",
   "metadata": {},
   "source": [
    "### Feature Engineering (та же функция, что и в train)"
   ]
  },
  {
   "cell_type": "code",
   "execution_count": 2,
   "id": "796ed5bf-c97f-4825-9b98-e02c1fe92c12",
   "metadata": {},
   "outputs": [],
   "source": [
    "def feat_engin(df):\n",
    "    data = []\n",
    "    for i in range(len(df)):\n",
    "        values = np.log1p(np.abs(df['values'][i])) * np.sign(df['values'][i])\n",
    "        dates = pd.to_datetime(df['dates'][i])\n",
    "        \n",
    "        features = {\n",
    "            'id': df['id'][i],\n",
    "            'mean': np.mean(values),\n",
    "            'std': np.std(values),\n",
    "            'min': np.min(values),\n",
    "            'max': np.max(values),\n",
    "            'median': np.median(values),\n",
    "            'q25': np.quantile(values, 0.25),\n",
    "            'q75': np.quantile(values, 0.75),\n",
    "            'range': np.max(values) - np.min(values),\n",
    "            'trend': np.polyfit(range(len(values)), values, 1)[0],  \n",
    "            'time_range': (dates.max() - dates.min()).days,\n",
    "            'autocorr': pd.Series(values).autocorr(lag=1),\n",
    "        }\n",
    "        data.append(features)\n",
    "    return pd.DataFrame(data)"
   ]
  },
  {
   "cell_type": "markdown",
   "id": "a7f6ecee-2d98-45e2-a2a7-51f92571d16d",
   "metadata": {},
   "source": [
    "### Загрузка тестовых данных и примение функции"
   ]
  },
  {
   "cell_type": "code",
   "execution_count": 3,
   "id": "f88e78ef-c6b0-4ff8-973b-15b8b994367b",
   "metadata": {},
   "outputs": [],
   "source": [
    "test = pd.read_parquet('test.parquet')\n",
    "test_f = feat_engin(test)"
   ]
  },
  {
   "cell_type": "markdown",
   "id": "7c80caa3-6502-4c61-b903-5dac4a592957",
   "metadata": {},
   "source": [
    "### Загрузка обученной модели"
   ]
  },
  {
   "cell_type": "code",
   "execution_count": 4,
   "id": "aa7d7129-e7fc-42fb-8379-ed77c321ebd7",
   "metadata": {},
   "outputs": [],
   "source": [
    "with open('xgb_model.pkl', 'rb') as f:\n",
    "    model = pickle.load(f)"
   ]
  },
  {
   "cell_type": "markdown",
   "id": "f259b5ff-6da7-43a1-8fad-8f502697911a",
   "metadata": {},
   "source": [
    "### Предсказание"
   ]
  },
  {
   "cell_type": "code",
   "execution_count": 5,
   "id": "baf4e074-2c59-448a-8949-a963e05a3f2c",
   "metadata": {},
   "outputs": [
    {
     "name": "stderr",
     "output_type": "stream",
     "text": [
      "D:\\Anaconda3\\Lib\\site-packages\\xgboost\\core.py:158: UserWarning: [19:39:31] WARNING: C:\\buildkite-agent\\builds\\buildkite-windows-cpu-autoscaling-group-i-0015a694724fa8361-1\\xgboost\\xgboost-ci-windows\\src\\common\\error_msg.cc:58: Falling back to prediction using DMatrix due to mismatched devices. This might lead to higher memory usage and slower performance. XGBoost is running on: cuda:0, while the input data is on: cpu.\n",
      "Potential solutions:\n",
      "- Use a data structure that matches the device ordinal in the booster.\n",
      "- Set the device for booster before call to inplace_predict.\n",
      "\n",
      "This warning will only be shown once.\n",
      "\n",
      "  warnings.warn(smsg, UserWarning)\n"
     ]
    }
   ],
   "source": [
    "pred = model.predict_proba(test_f.drop('id', axis=1))[:, 1]"
   ]
  },
  {
   "cell_type": "markdown",
   "id": "4ee772bc-9854-425e-8b7c-92138c0315d9",
   "metadata": {},
   "source": [
    "### Сохранение результатов"
   ]
  },
  {
   "cell_type": "code",
   "execution_count": 6,
   "id": "a7a2d688-8c10-4cf6-9d82-18757456bae2",
   "metadata": {},
   "outputs": [],
   "source": [
    "submission = pd.DataFrame({'id': test_f['id'], 'score': pred})\n",
    "submission.to_csv('submission.csv', index=False)"
   ]
  }
 ],
 "metadata": {
  "kernelspec": {
   "display_name": "Python 3 (ipykernel)",
   "language": "python",
   "name": "python3"
  },
  "language_info": {
   "codemirror_mode": {
    "name": "ipython",
    "version": 3
   },
   "file_extension": ".py",
   "mimetype": "text/x-python",
   "name": "python",
   "nbconvert_exporter": "python",
   "pygments_lexer": "ipython3",
   "version": "3.11.7"
  }
 },
 "nbformat": 4,
 "nbformat_minor": 5
}
